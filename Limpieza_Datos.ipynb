{
 "cells": [
  {
   "cell_type": "markdown",
   "metadata": {},
   "source": [
    "**<h1 align=\"center\">PROYECTO INDIVIDUAL 2</h1>**\n",
    "<h1 align=\"center\"> Limpieza de Datos</h1>"
   ]
  },
  {
   "cell_type": "markdown",
   "metadata": {},
   "source": [
    "Importamos librerias"
   ]
  },
  {
   "cell_type": "code",
   "execution_count": 7,
   "metadata": {},
   "outputs": [],
   "source": [
    "import pandas as pd\n",
    "import numpy as np\n",
    "import re\n",
    "import datetime"
   ]
  },
  {
   "cell_type": "markdown",
   "metadata": {},
   "source": [
    "Abrimos el dataset y trabajamos las dos hojas de calculo que necesitamos en diferentes Dataframe"
   ]
  },
  {
   "cell_type": "code",
   "execution_count": 8,
   "metadata": {},
   "outputs": [],
   "source": [
    "#Abres el libro de Excel \n",
    "xlsx = pd.ExcelFile('homicidios.xlsx')\n",
    "#Usamos las hojas del libro de Excel que necesitamos en Dataframes diferentes \n",
    "df1 = pd.read_excel(xlsx, 'HECHOS')\n",
    "df2 = pd.read_excel(xlsx, 'VICTIMAS')"
   ]
  },
  {
   "cell_type": "markdown",
   "metadata": {},
   "source": [
    "Limpieza de Datos de la Hoja de calculo 'HECHOS' en el Dataframe df1"
   ]
  },
  {
   "cell_type": "code",
   "execution_count": 9,
   "metadata": {},
   "outputs": [],
   "source": [
    "#Eliminamos columnas no relevantes para el analisis posterior\n",
    "df1 = df1.drop('Cruce', axis= 1)\n",
    "df1 = df1.drop('Altura', axis= 1)\n",
    "df1 = df1.drop('Calle', axis= 1)\n",
    "df1 = df1.drop('Dirección Normalizada', axis= 1)\n",
    "\n",
    "#Convertimos el tipo de variable de datos de las siguientes columnas\n",
    "df1['ID'] = df1['ID'].astype(str)\n",
    "df1['LUGAR_DEL_HECHO'] = df1['LUGAR_DEL_HECHO'].astype(str)\n",
    "df1['TIPO_DE_CALLE'] = df1['TIPO_DE_CALLE'].astype(str)\n",
    "df1['VICTIMA'] = df1['VICTIMA'].astype(str)\n",
    "df1['ACUSADO'] = df1['ACUSADO'].astype(str)\n",
    "\n",
    "#Eliminamos las filas que tengan valor de \"SD\" en las columnas 'PARTICIPANTES', 'VICTIMA' y 'ACUSADO'\n",
    "df1 = df1[(df1['PARTICIPANTES'] != 'SD-SD')]\n",
    "\n",
    "#Reemplazamos el valor de \"SD\" de la columna 'HORA' la media de los datos de dicha columna\n",
    "#Realizamos la funcion para intercambiar valores\n",
    "def columns_modifier(mode,DF,columns,value,replace=None):\n",
    "    df = DF.copy()\n",
    "    if mode == 'swap':\n",
    "        for index, row in df.iterrows():\n",
    "\n",
    "            value_1=row[columns[0]]\n",
    "            value_2=row[columns[1]]\n",
    "\n",
    "            if value_1== value:\n",
    "                temp=value_1\n",
    "                df.at[index, columns[0]] = value_2\n",
    "                df.at[index, columns[1]] = temp\n",
    "    if mode == 'replace':\n",
    "        for index, row in df.iterrows():\n",
    "            to_replace=row[columns[0]]\n",
    "\n",
    "            if to_replace == value:\n",
    "                df.at[index, columns[0]] = replace\n",
    "    return df\n",
    "\n",
    "#Llamamos la funcion en las columnas 'HH' y 'HORA'\n",
    "columna = ['HH']\n",
    "df1 = columns_modifier('replace',df1,columna,'SD',np.nan)\n",
    "columna = ['HORA']\n",
    "df1 = columns_modifier('replace',df1,columna,'SD',np.nan)\n",
    "\n",
    "#Realizamos la funcion para tomar un valor decimal y lo convierte en cadena de texto con formato de hora\n",
    "def convertir_hora(decimal_hora):\n",
    "    horas_enteras = int(decimal_hora)\n",
    "    minutos_decimales = (decimal_hora - horas_enteras) * 60\n",
    "\n",
    "    hora_formateada = f\"{horas_enteras:02d}:{int(minutos_decimales):02d}\"\n",
    "\n",
    "    return hora_formateada\n",
    "\n",
    "df1['HORA'] = df1['HORA'].fillna(convertir_hora(df1['HH'].mean()))\n",
    "df1['HH'] = df1['HH'].fillna(df1['HH'].mean()).apply(int)\n",
    "\n",
    "#Convertimos los valores de las siguientes columnas de Mayuscula a minuscula\n",
    "df1['LUGAR_DEL_HECHO'] = df1['LUGAR_DEL_HECHO'].str.title()\n",
    "df1['TIPO_DE_CALLE'] = df1['TIPO_DE_CALLE'].str.title()\n",
    "df1['VICTIMA'] = df1['VICTIMA'].str.title()\n",
    "df1['ACUSADO'] = df1['ACUSADO'].str.title()\n",
    "df1['PARTICIPANTES'] = df1['PARTICIPANTES'].str.title()\n",
    "\n",
    "#Reemplazamos el nombre de la columna 'ID' por el nombre 'ID_hecho'\n",
    "df1 = df1.rename(columns={'ID': 'ID_hecho'})\n",
    "\n",
    "#Guardamos Dataframe en un archivo .csv\n",
    "df1.to_csv('Hechos.csv', index=False)"
   ]
  },
  {
   "cell_type": "markdown",
   "metadata": {},
   "source": [
    "Limpieza de Datos de la Hoja de calculo 'VICTIMAS' en el Dataframe df2"
   ]
  },
  {
   "cell_type": "code",
   "execution_count": 10,
   "metadata": {},
   "outputs": [],
   "source": [
    "#Realizamos el cambio de tipo de variable a las siguientes columnas\n",
    "df2['ID_hecho'] = df2['ID_hecho'].astype(str)\n",
    "df2['ROL'] = df2['ROL'].astype(str)\n",
    "df2['VICTIMA'] = df2['VICTIMA'].astype(str)\n",
    "df2['SEXO'] = df2['SEXO'].astype(str)\n",
    "\n",
    "#Convertimos los valores de las siguientes columnas de Mayuscula a minuscula\n",
    "df2['ROL'] = df2['ROL'].str.title()\n",
    "df2['VICTIMA'] = df2['VICTIMA'].str.title()\n",
    "df2['SEXO'] = df2['SEXO'].str.title()\n",
    "\n",
    "#Debido a que hay valores en la columna'FECHA_FALLECIMIENTO' correspondiente a \"SD\" pero si comparamos con la columna 'FECHA' podemos observar que los valores son iguales, entonces para eliminar los valores \"SD\" asignamos los valores de la columna 'FECHA' a 'FECHA_FALLECIMIENTO'\n",
    "df2['FECHA_FALLECIMIENTO'] = df2['FECHA'].where(df2['FECHA_FALLECIMIENTO'] == 'SD', df2['FECHA_FALLECIMIENTO'])\n",
    "\n",
    "#Cambiamos el formato de la columna 'FECHA_FALLECIMIENTO' al formato de fecha correspondiente\n",
    "df2['FECHA_FALLECIMIENTO'] = pd.to_datetime(df2['FECHA_FALLECIMIENTO'])\n",
    "\n",
    "#Guardamos Dataframe en un archivo .csv\n",
    "df2.to_csv('Victimas.csv', index=False)"
   ]
  },
  {
   "cell_type": "markdown",
   "metadata": {},
   "source": [
    "Realizamos un merge entre los Dataframes df1 y df2"
   ]
  },
  {
   "cell_type": "code",
   "execution_count": 11,
   "metadata": {},
   "outputs": [],
   "source": [
    "df3 = pd.merge(df1, df2, on=('ID_hecho', 'VICTIMA', 'FECHA', 'AAAA', 'MM', 'DD'), how='inner')\n",
    "\n",
    "#Guardamos el merge en formato .csv\n",
    "df3.to_csv(\"Homicidios.csv\", index=False)"
   ]
  }
 ],
 "metadata": {
  "kernelspec": {
   "display_name": "Python 3",
   "language": "python",
   "name": "python3"
  },
  "language_info": {
   "codemirror_mode": {
    "name": "ipython",
    "version": 3
   },
   "file_extension": ".py",
   "mimetype": "text/x-python",
   "name": "python",
   "nbconvert_exporter": "python",
   "pygments_lexer": "ipython3",
   "version": "3.11.6"
  }
 },
 "nbformat": 4,
 "nbformat_minor": 2
}
